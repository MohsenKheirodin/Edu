{
 "cells": [
  {
   "cell_type": "code",
   "execution_count": 1,
   "id": "ecdb050f",
   "metadata": {},
   "outputs": [],
   "source": [
    "import pandas as pd\n",
    "import numpy as np\n",
    "import matplotlib.pyplot as plt\n",
    "from tensorflow.keras.layers import Dense\n",
    "from tensorflow.keras.models import Sequential\n"
   ]
  },
  {
   "cell_type": "code",
   "execution_count": null,
   "id": "39d9887b",
   "metadata": {},
   "outputs": [],
   "source": [
    "# # Example. Forward Propagation The code does not work\n",
    "# Define predict_with_network()\n",
    "# def predict_with_network(input_data_row, weights):\n",
    "\n",
    "#     node_0_input = (input_data_row * weights['node_0']).sum()\n",
    "#     node_0_output = relu(node_0_input)\n",
    "\n",
    "#     node_1_input = (input_data_row * weights['node_1']).sum()\n",
    "#     node_1_output = relu(node_1_input)\n",
    "\n",
    "#     hidden_layer_outputs = np.array([node_0_output, node_1_output])\n",
    "    \n",
    "#     input_to_final_layer = (hidden_layer_outputs * weights[\"output\"]).sum()\n",
    "#     model_output = relu(input_to_final_layer)    \n",
    "#     return(model_output)\n",
    "\n",
    "# # Call the Function\n",
    "# results = []\n",
    "# for input_data_row in input_data:\n",
    "#     results.append(predict_with_network(input_data_row,weights))\n",
    "# print(results)     "
   ]
  },
  {
   "cell_type": "code",
   "execution_count": null,
   "id": "22169b2d",
   "metadata": {},
   "outputs": [],
   "source": [
    "# Example. Calculating Error. The code does not work\n",
    "\n",
    "# from sklearn.metrics import mean_squared_error\n",
    "\n",
    "# model_output_0 = []\n",
    "# for row in input_data:\n",
    "#     model_output_0.append(predict_with_network(row,weights_0))\n",
    "\n",
    "# mse_0 = mean_squared_error(model_output_0, target_actuals)\n",
    "# print(\"Mean squared error with weights_0: %f\" %mse_0)\n"
   ]
  },
  {
   "cell_type": "code",
   "execution_count": null,
   "id": "63f7c799",
   "metadata": {},
   "outputs": [],
   "source": [
    "# Sample Keras Code\n",
    "# pred = np.loadtxt('pred.csv',delimiter=',')\n",
    "# n_cols = pred.shape[1]\n",
    "# model = Sequential()\n",
    "# model.add(Dense(100, activation = \"relu\", input_shape = (n_cols,)))\n",
    "# model.add(Dense(100, activation = \"relu\"))\n",
    "# model.add(Dense(1))\n",
    "# model.compile(optimizer = \"adam\", loss = \"mean_squared_error\")\n",
    "# model.fit(predictors, target)"
   ]
  },
  {
   "cell_type": "code",
   "execution_count": null,
   "id": "26d82ba9",
   "metadata": {},
   "outputs": [],
   "source": [
    "# Classification with Keras. The code does not work\n",
    "# from tensorflow.keras.utils import to_categorical\n",
    "\n",
    "# data = pd.read_csv('file.csv')\n",
    "# predictors = data.drop(['shot_result'], axis = 1).values\n",
    "# target = to_categorical(data['shot_result'])\n",
    "\n",
    "# model = Sequential()\n",
    "# model.add(Dense(100, activation = \"relu\", input_shape = (n_cols,)))\n",
    "# model.add(Dense(100, activation = \"relu\"))\n",
    "# model.add(Dense(100, activation = \"relu\"))\n",
    "# model.add(Dense(2, activation = \"softmax\"))\n",
    "# model.compile(optimizer = \"adam\", loss = \"categorical_crossentropy\", metrics = ['accuracy'])\n",
    "# model.fit(predictors, target)\n"
   ]
  },
  {
   "cell_type": "code",
   "execution_count": null,
   "id": "6d5aebbe",
   "metadata": {},
   "outputs": [],
   "source": [
    "# Working with models\n",
    "# from tensorflow.keras.models import load_model\n",
    "# model.save('model_file.h5')\n",
    "# my_model = load_model('model_file.h5')\n",
    "# predictions = my_model.predict(data_to_predict_with)\n",
    "# probability_true = predictions[:,1]\n",
    "# my_model.summary()\n",
    "\n",
    "# # Model in a Function\n",
    "# from tensorflow.keras.optimizers import SGD \n",
    "# def get_model(input_shape = input_shape):\n",
    "#     model = Sequential()\n",
    "#     model.add(Dense(100, activation = \"relu\", input_shape = input_shape))\n",
    "#     model.add(Dense(100, activation = \"relu\"))\n",
    "#     model.add(Dense(2, activation = \"softmax\"))\n",
    "#     return (model)\n",
    "# lr_list = [0.0001 0.001 0.01]\n",
    "# for lr in lr_list:\n",
    "#     model = get_model()\n",
    "#     my_optimizer = SGD(lr = lr)\n",
    "#     model.compile(optimizer = my_optimizer, loss = \"categorical_crossentropy\")\n",
    "#     model.fit(predictors, target)"
   ]
  },
  {
   "cell_type": "code",
   "execution_count": 3,
   "id": "1cf20330",
   "metadata": {},
   "outputs": [],
   "source": [
    "# # Validation\n",
    "# model.compile(optimizer = 'adam', loss = \"categorical_crossentropy\", metrics = ['accuracy'])\n",
    "# model.fit(predictors, target, validation_split = 0.3)\n",
    "\n"
   ]
  },
  {
   "cell_type": "code",
   "execution_count": null,
   "id": "f09f06b3",
   "metadata": {},
   "outputs": [],
   "source": [
    "# Early Stopping\n",
    "# from tensorflow.keras.callbacks import EarlyStopping\n",
    "# early_stopping_monitor = EarlyStopping(patience = 2)\n",
    "# model.fit(predictors, target, validation_split = 0.3, epochs = 20, callbacks = [early_stopping_monitor])"
   ]
  }
 ],
 "metadata": {
  "kernelspec": {
   "display_name": "Python 3",
   "language": "python",
   "name": "python3"
  },
  "language_info": {
   "codemirror_mode": {
    "name": "ipython",
    "version": 3
   },
   "file_extension": ".py",
   "mimetype": "text/x-python",
   "name": "python",
   "nbconvert_exporter": "python",
   "pygments_lexer": "ipython3",
   "version": "3.7.13"
  }
 },
 "nbformat": 4,
 "nbformat_minor": 5
}
