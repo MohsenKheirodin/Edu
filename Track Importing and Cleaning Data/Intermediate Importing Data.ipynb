{
 "cells": [
  {
   "cell_type": "code",
   "execution_count": 1,
   "id": "ecdb050f",
   "metadata": {},
   "outputs": [],
   "source": [
    "import pandas as pd\n",
    "import numpy as np\n",
    "import matplotlib.pyplot as plt\n",
    "from urllib.request import urlretrieve\n",
    "from urllib.request import urlopen, Request\n",
    "import requests\n",
    "from bs4 import BeautifulSoup"
   ]
  },
  {
   "cell_type": "code",
   "execution_count": 3,
   "id": "0c2d403d",
   "metadata": {},
   "outputs": [],
   "source": [
    "# from urllib.request import urlretrieve\n",
    "# url = 'https://assets.datacamp.com/production/course_1606/datasets/winequality-red.csv'\n",
    "# urlretrieve(url, 'file.csv')\n",
    "# df = pd.read_csv('file.csv', sep=';')\n",
    "\n",
    "# # Direct Method:\n",
    "# df = pd.read_csv(url, sep=';')\n"
   ]
  },
  {
   "cell_type": "code",
   "execution_count": null,
   "id": "47490a6f",
   "metadata": {},
   "outputs": [],
   "source": [
    "# # Example (reading an excel file)\n",
    "# # Import package\n",
    "# import pandas as pd\n",
    "\n",
    "# # Assign url of file: url\n",
    "# url = 'https://assets.datacamp.com/course/importing_data_into_r/latitude.xls'\n",
    "\n",
    "# # Read in all sheets of Excel file: xls\n",
    "# xls = pd.read_excel(url, sheet_name=None)\n",
    "\n",
    "# # Print the sheetnames to the shell\n",
    "# print(xls.keys())\n",
    "\n",
    "# # Print the head of the first sheet (using its name, NOT its index)\n",
    "# print(xls['1700'].head())"
   ]
  },
  {
   "cell_type": "code",
   "execution_count": 9,
   "id": "1a20ac2c",
   "metadata": {},
   "outputs": [],
   "source": [
    "# # HTTPS is more secured form of HTTP\n",
    "# # Going to a website: sending http request, a GET request,\n",
    "# # We actually send a GET request by urlretrieve order\n",
    "# url = 'https://www.wikipedia.org/'\n",
    "# request = Request(url)\n",
    "# response = urlopen(request)\n",
    "# html = response.read()\n",
    "# response.close()\n",
    "\n",
    "# import requests\n",
    "# r = requests.get(url)\n",
    "# text = r.text"
   ]
  },
  {
   "cell_type": "code",
   "execution_count": 24,
   "id": "608ca345",
   "metadata": {},
   "outputs": [],
   "source": [
    "# # HTML files have both structured and unstructured formats\n",
    "# # We should parse and extract structured data from HTML\n",
    "# # We can do it by Beautiful Soup\n",
    "# from bs4 import BeautifulSoup\n",
    "# url = 'https://en.wikipedia.org/wiki/Lionel_Messi'\n",
    "# r = requests.get(url)\n",
    "# html_doc = r.text\n",
    "# soup = BeautifulSoup(html_doc)\n",
    "\n",
    "# print(soup.prettify)\n",
    "# print(soup.title)\n",
    "# print(soup.getText())\n",
    "# for link in soup.find_all('a'):\n",
    "#     print(link.get('href'))\n"
   ]
  },
  {
   "cell_type": "code",
   "execution_count": 16,
   "id": "6d9f3573",
   "metadata": {},
   "outputs": [],
   "source": [
    "# # Getting Data from APIs, which is done mostly by JSON\n",
    "# # JSON: proper for real-time server to browser communication\n",
    "# # They are Human readable and their format is like dictionaries. \n",
    "# # Thus, when loading Json into Python,it is natural to store them in a dict.\n",
    "# # Keys are string in ' ', values can be string, intiger, arrays, or even objects.\n",
    "# import json\n",
    "# with open('data.json','r') as  json_file:\n",
    "#     json_data = json.load(json_file)\n",
    "# for key, value in json_data.items():\n",
    "#     print(key + ':')\n",
    "    \n",
    "# print(type(json_data))\n",
    "# print(json_data)"
   ]
  },
  {
   "cell_type": "code",
   "execution_count": 25,
   "id": "7d0d362a",
   "metadata": {},
   "outputs": [],
   "source": [
    "# # API: set of protocols and routines for interacting. Allows two software programs to communicate\n",
    "# # Connecting to an API and getting data from it:\n",
    "# import requests\n",
    "# url = 'http://www.omdbapi.com/?t=hackers'\n",
    "# # the string parts that start with ? are query strings.\n",
    "# # ?t=hackers: return data with title of hackers\n",
    "# r = requests.get(url)\n",
    "# json_data = r.json()\n",
    "# for key, value in json_data.items():\n",
    "#     print(key + ' : ' + value)\n"
   ]
  },
  {
   "cell_type": "code",
   "execution_count": 24,
   "id": "7b7c62ad",
   "metadata": {},
   "outputs": [],
   "source": [
    "# # Example 1\n",
    "# import requests\n",
    "# url = 'http://www.omdbapi.com/?apikey=72bc447a&t=the+social+network'\n",
    "# r = requests.get(url)\n",
    "# print(r.text)\n",
    "# json_data = r.json()\n",
    "# for k in json_data.keys():\n",
    "#     print(k + ': ', json_data[k])\n",
    "\n",
    "# # Example 2\n",
    "# url = 'https://en.wikipedia.org/w/api.php?action=query&prop=extracts&format=json&exintro=&titles=pizza'\n",
    "# r = requests.get(url)\n",
    "# json_data = r.json()\n",
    "# pizza_extract = json_data['query']['pages']['24768']['extract']\n",
    "# print(pizza_extract)\n"
   ]
  },
  {
   "cell_type": "code",
   "execution_count": 30,
   "id": "5a0381ad",
   "metadata": {},
   "outputs": [],
   "source": [
    "# # Work with Twitter API\n",
    "# # REST: for read and write twitter data\n",
    "# # Real-time data: Streaming API, public stram\n",
    "# # Tweets are return as json files\n",
    "# # there is a package: tweepy\n",
    "# import tweepy, json\n",
    "# access_token = '...'\n",
    "# access_token_secret = '...'\n",
    "# consumer_key = '...'\n",
    "# consumer_secret = '...'\n",
    "# stream = tweepy.Stream(consumer_key, consumer_secret, access_token, access_token_secret)\n",
    "# stream.filter(track = ['apple', 'orange'])"
   ]
  },
  {
   "cell_type": "code",
   "execution_count": 29,
   "id": "a85fcb9c",
   "metadata": {},
   "outputs": [],
   "source": [
    "# # Example 1\n",
    "# consumer_key = \"nZ6EA0FxZ293SxGNg8g8aP0HM\"\n",
    "# consumer_secret = \"fJGEodwe3KiKUnsYJC3VRndj7jevVvXbK2D5EiJ2nehafRgA6i\"\n",
    "# access_token = \"1092294848-aHN7DcRP9B4VMTQIhwqOYiB14YkW92fFO8k8EPy\"\n",
    "# access_token_secret = \"X4dHmhPfaksHcQ7SCbmZa2oYBBVSD2g8uIHXsp5CTaksx\"\n",
    "\n",
    "# stream = tweepy.Stream(consumer_key, consumer_secret, access_token, access_token_secret)\n",
    "# stream.filter(track = ['clinton', 'trump', 'sanders', 'cruz'])\n",
    "\n",
    "# #Example 2\n",
    "# import tweepy, json\n",
    "# tweets_data_path = 'tweets.txt'\n",
    "# tweets_data = []\n",
    "# tweets_file = open(tweets_data_path, \"r\")\n",
    "# for line in tweets_file:\n",
    "#     tweet = json.loads(line)\n",
    "#     tweets_data.append(tweet)\n",
    "# tweets_file.close()\n",
    "# print(tweets_data[0].keys())\n",
    "# df = pd.DataFrame(tweets_data, columns=['text', 'lang'])\n",
    "\n",
    "# [clinton, trump, sanders, cruz] = [0, 0, 0, 0]\n",
    "\n",
    "# for index, row in df.iterrows():\n",
    "#     clinton += word_in_text('clinton', row['text'])\n",
    "#     trump += word_in_text('trump', row['text'])\n",
    "#     sanders += word_in_text('sanders', row['text'])\n",
    "#     cruz += word_in_text('cruz', row['text'])\n",
    "\n",
    "# import matplotlib.pyplot as plt\n",
    "# import seaborn as sns\n",
    "\n",
    "# sns.set(color_codes=True)\n",
    "# cd = ['clinton', 'trump', 'sanders', 'cruz']\n",
    "# ax = sns.barplot(x = cd, y = [clinton, trump, sanders, cruz])\n",
    "# ax.set(ylabel=\"count\")\n",
    "# plt.show()"
   ]
  }
 ],
 "metadata": {
  "kernelspec": {
   "display_name": "Python 3",
   "language": "python",
   "name": "python3"
  },
  "language_info": {
   "codemirror_mode": {
    "name": "ipython",
    "version": 3
   },
   "file_extension": ".py",
   "mimetype": "text/x-python",
   "name": "python",
   "nbconvert_exporter": "python",
   "pygments_lexer": "ipython3",
   "version": "3.7.13"
  }
 },
 "nbformat": 4,
 "nbformat_minor": 5
}
