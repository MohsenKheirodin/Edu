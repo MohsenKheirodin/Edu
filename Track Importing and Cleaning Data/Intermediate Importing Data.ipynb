{
 "cells": [
  {
   "cell_type": "code",
   "execution_count": 4,
   "id": "ecdb050f",
   "metadata": {},
   "outputs": [],
   "source": [
    "import pandas as pd\n",
    "import numpy as np\n",
    "import matplotlib.pyplot as plt\n",
    "from urllib.request import urlretrieve\n",
    "from urllib.request import urlopen, Request\n",
    "import requests\n",
    "from bs4 import BeautifulSoup\n"
   ]
  },
  {
   "cell_type": "code",
   "execution_count": 3,
   "id": "0c2d403d",
   "metadata": {},
   "outputs": [],
   "source": [
    "# from urllib.request import urlretrieve\n",
    "# url = 'https://assets.datacamp.com/production/course_1606/datasets/winequality-red.csv'\n",
    "# urlretrieve(url, 'file.csv')\n",
    "# df = pd.read_csv('file.csv', sep=';')\n",
    "\n",
    "# # Direct Method:\n",
    "# df = pd.read_csv(url, sep=';')\n"
   ]
  },
  {
   "cell_type": "code",
   "execution_count": null,
   "id": "47490a6f",
   "metadata": {},
   "outputs": [],
   "source": [
    "# # Example (reading an excel file)\n",
    "# # Import package\n",
    "# import pandas as pd\n",
    "\n",
    "# # Assign url of file: url\n",
    "# url = 'https://assets.datacamp.com/course/importing_data_into_r/latitude.xls'\n",
    "\n",
    "# # Read in all sheets of Excel file: xls\n",
    "# xls = pd.read_excel(url, sheet_name=None)\n",
    "\n",
    "# # Print the sheetnames to the shell\n",
    "# print(xls.keys())\n",
    "\n",
    "# # Print the head of the first sheet (using its name, NOT its index)\n",
    "# print(xls['1700'].head())"
   ]
  },
  {
   "cell_type": "code",
   "execution_count": 9,
   "id": "1a20ac2c",
   "metadata": {},
   "outputs": [],
   "source": [
    "# # HTTPS is more secured form of HTTP\n",
    "# # Going to a website: sending http request, a GET request,\n",
    "# # We actually send a GET request by urlretrieve order\n",
    "# url = 'https://www.wikipedia.org/'\n",
    "# request = Request(url)\n",
    "# response = urlopen(request)\n",
    "# html = response.read()\n",
    "# response.close()\n",
    "\n",
    "# import requests\n",
    "# r = requests.get(url)\n",
    "# text = r.text"
   ]
  },
  {
   "cell_type": "code",
   "execution_count": 24,
   "id": "608ca345",
   "metadata": {},
   "outputs": [],
   "source": [
    "# # HTML files have both structured and unstructured formats\n",
    "# # We should parse and extract structured data from HTML\n",
    "# # We can do it by Beautiful Soup\n",
    "# from bs4 import BeautifulSoup\n",
    "# url = 'https://en.wikipedia.org/wiki/Lionel_Messi'\n",
    "# r = requests.get(url)\n",
    "# html_doc = r.text\n",
    "# soup = BeautifulSoup(html_doc)\n",
    "\n",
    "# print(soup.prettify)\n",
    "# print(soup.title)\n",
    "# print(soup.getText())\n",
    "# for link in soup.find_all('a'):\n",
    "#     print(link.get('href'))\n",
    "\n"
   ]
  },
  {
   "cell_type": "code",
   "execution_count": null,
   "id": "6d9f3573",
   "metadata": {},
   "outputs": [],
   "source": [
    "\n"
   ]
  },
  {
   "cell_type": "code",
   "execution_count": null,
   "id": "7d0d362a",
   "metadata": {},
   "outputs": [],
   "source": []
  }
 ],
 "metadata": {
  "kernelspec": {
   "display_name": "Python 3",
   "language": "python",
   "name": "python3"
  },
  "language_info": {
   "codemirror_mode": {
    "name": "ipython",
    "version": 3
   },
   "file_extension": ".py",
   "mimetype": "text/x-python",
   "name": "python",
   "nbconvert_exporter": "python",
   "pygments_lexer": "ipython3",
   "version": "3.7.13"
  }
 },
 "nbformat": 4,
 "nbformat_minor": 5
}
