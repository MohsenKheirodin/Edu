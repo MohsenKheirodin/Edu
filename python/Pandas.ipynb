{
 "cells": [
  {
   "cell_type": "code",
   "execution_count": 1,
   "id": "ecdb050f",
   "metadata": {},
   "outputs": [],
   "source": [
    "import pandas as pd\n",
    "import numpy as np\n",
    "import matplotlib.pyplot as plt\n",
    "df = pd.read_excel('sample data.xlsx')"
   ]
  },
  {
   "cell_type": "code",
   "execution_count": 169,
   "id": "d756d8d4",
   "metadata": {},
   "outputs": [],
   "source": [
    "#Codes for Quick overview of the DataFrame\n",
    "#df.head()\n",
    "#df.info()\n",
    "#df.shape\n",
    "#df.describe()\n",
    "#df.values\n",
    "#df.columns\n",
    "#df.index\n"
   ]
  },
  {
   "cell_type": "code",
   "execution_count": 59,
   "id": "893a22c5",
   "metadata": {},
   "outputs": [],
   "source": [
    "# Reaching Data\n",
    "#df[\"open\"]\n",
    "#df[[\"open\",\"close\"]]\n",
    "\n",
    "#list_desired = [\"open\", \"close\"]\n",
    "#df[list_desired]\n",
    "\n",
    "#df[\"open\"]>1000\n",
    "#df[df[\"open\"]>1000]\n",
    "\n",
    "#large_open = df[\"open\"]>1000\n",
    "#odds_close = df[\"close\"]%2 == 0\n",
    "#df[large_open & odds_close]\n",
    "#df[(df[\"open\"]>1000) & (df[\"close\"]%2 == 0)]\n",
    "\n",
    "#ISI_Condition = df[\"Code\"].isin([\"IRO9AHRM6141\",\"IRO9AHRM6171\"])\n",
    "#ISI = df[ISI_Condition]\n",
    "\n"
   ]
  },
  {
   "cell_type": "code",
   "execution_count": 60,
   "id": "8111ea21",
   "metadata": {},
   "outputs": [],
   "source": [
    "#Sort \n",
    "#Adding and Sorting\n",
    "# df[\"change\"] = 100 * (df[\"close\"] / df[\"open\"]) - 100\n",
    "#df_sorted = df.sort_values(\"open\")\n",
    "#df_sorted = df.sort_values([\"open\",\"close\"],ascending=[True, False])"
   ]
  },
  {
   "cell_type": "code",
   "execution_count": 82,
   "id": "ac816b4f",
   "metadata": {},
   "outputs": [],
   "source": [
    "# Basic Calculation\n",
    "#df[\"change\"].median()\n",
    "#df[\"change\"].mode()\n",
    "#df[\"change\"].mean()\n",
    "#df[\"change\"].min()\n",
    "#df[\"change\"].max()\n",
    "#df[\"change\"].std()\n",
    "#df[\"change\"].var()\n",
    "#df[\"change\"].sum()\n",
    "#df[\"change\"].quantile(0.6)\n",
    "#df[\"close\"].cumsum()\n"
   ]
  },
  {
   "cell_type": "code",
   "execution_count": 83,
   "id": "d15ae0d9",
   "metadata": {},
   "outputs": [],
   "source": [
    "# Aggregator\n",
    "#def PC30 (column):\n",
    "#    return column.quantile(0.3)\n",
    "#def PC40 (column):\n",
    "#    return column.quantile(0.4)\n",
    "\n",
    "#df[\"open\"].agg(PC30)\n",
    "#df[[\"open\",\"close\"]].agg(PC30)\n",
    "#df[[\"open\",\"close\"]].agg([PC30,PC40])\n"
   ]
  },
  {
   "cell_type": "code",
   "execution_count": 92,
   "id": "262e6add",
   "metadata": {},
   "outputs": [],
   "source": [
    "# Counting and Dropping duplicate Names\n",
    "# df.drop_duplicates(subset=\"Code\")\n",
    "# df.drop_duplicates(subset=[\"Code\",\"heven\"])\n",
    "# df[\"Code\"].value_counts()\n",
    "# df[\"Code\"].value_counts(sort = True)\n",
    "# df[\"Code\"].value_counts(normalize = True)\n",
    "\n"
   ]
  },
  {
   "cell_type": "code",
   "execution_count": 102,
   "id": "2083d3ea",
   "metadata": {},
   "outputs": [],
   "source": [
    "# Group Calculation\n",
    "# df[df[\"Code\"] == \"IRO9AHRM6141\"][\"open\"].mean()\n",
    "# df.groupby(\"Code\")[\"open\"].mean()\n",
    "# df.groupby(\"Code\")[\"open\"].agg([min, max, sum])\n",
    "# df.groupby([\"Code\", \"heven\"])[\"open\"].mean()\n",
    "# df.groupby([\"Code\", \"heven\"])[[\"open\", \"close\"]].mean()\n",
    "# df_by_Code = df.groupby(\"Code\")[\"open\"].sum()\n",
    "# df_by_Code_prop = df_by_Code / sum(df_by_Code)\n",
    "# df_by_Code = df.groupby(\"Code\")[[\"open\",\"close\"]].agg([np.min, np.max, np.mean, np.median])\n"
   ]
  },
  {
   "cell_type": "code",
   "execution_count": 115,
   "id": "537976b7",
   "metadata": {},
   "outputs": [],
   "source": [
    "#Pivot_Tables\n",
    "# df.groupby(\"Code\")[\"open\"].mean()\n",
    "# df.pivot_table(values=\"open\", index=\"Code\")\n",
    "# df.pivot_table(values=\"open\", index=\"Code\", aggfunc=np.median)\n",
    "# df.pivot_table(values=\"open\", index=\"Code\", aggfunc=[np.mean, np.median])\n",
    "# df.pivot_table(values=\"open\", index=\"Code\", columns = \"heven\", aggfunc=np.median)\n",
    "# df.pivot_table(values=\"open\", index=\"Code\", columns = \"heven\", aggfunc=np.median, fill_value=0)\n",
    "# df.pivot_table(values=\"open\", index=\"Code\", columns = \"heven\", aggfunc=np.median, fill_value=0, margins = True)\n"
   ]
  },
  {
   "cell_type": "code",
   "execution_count": 167,
   "id": "031cb8cc",
   "metadata": {},
   "outputs": [],
   "source": [
    "# Setting Index and Undoing, Indexing is important in loc function\n",
    "# There are some problems though in changing indexes, thus, not recommended\n",
    "\n",
    "# df_ind = df.set_index(\"Code\")\n",
    "# df_ind.reset_index()\n",
    "# df_ind.reset_index(drop = True)\n",
    "\n",
    "# df_ind = df.set_index(\"Code\")\n",
    "# desired = [\"IRO9AHRM6141\",\"IRO9AHRM6171\"]\n",
    "# ISI_Condition_1 = df[df[\"Code\"].isin(desired)]\n",
    "# ISI_Condition_2 = df_ind.loc[[\"IRO9AHRM6141\",\"IRO9AHRM6171\"]]\n",
    "\n",
    "# df_ind.reset_index()\n",
    "# df_ind = df.set_index(\"heven\")\n",
    "# df_ind.loc[[124910, 115029]]\n",
    "\n",
    "# df_ind_2 = df.set_index([\"Code\",\"heven\"])\n",
    "# df_ind_2.loc[[\"IRO9AHRM6141\",122845]]\n",
    "# df_ind_2.loc[[(\"IRO9AHRM6141\",122845),(\"IRO9AHRM6161\", 124910)]]\n",
    "# df_ind_2.sort_index()"
   ]
  },
  {
   "cell_type": "code",
   "execution_count": 15,
   "id": "b00c6d8f",
   "metadata": {},
   "outputs": [],
   "source": [
    "# loc, iloc\n",
    "# First: working with Lists\n",
    "# A = [1, 12, 14, 15, 17, 19, 21]\n",
    "# A[:3]     # A[3:]     # A[2:5]      # A[:]\n",
    "\n",
    "# df_ind = df.set_index(\"Code\")\n",
    "# df_ind.loc[\"IRO9AHRM6141\":\"IRO9AHRM6181\"]\n",
    "# df_ind.loc[:,\"heven\":\"close\"]  # it does not work without loc\n",
    "# df_ind.loc[\"IRO9AHRM6141\":\"IRO9AHRM6181\",\"heven\":\"close\"]\n",
    "# df_ind.iloc[2:10,1:3]     # df_ind.iloc[:,1:3]        # df_ind.iloc[2:,:3]        # ...\n",
    "\n",
    "# Example (codes do not work), the country and city are indexes, but the only the 2nd code does work since country is the first incex\n",
    "# If one desires to use loc for cities too, he should use the last line of the example\n",
    "# temperatures_srt = temperatures_ind.sort_index()\n",
    "# print(temperatures_srt.loc[\"Pakistan\":\"Russia\"])\n",
    "# print(temperatures_srt.loc[\"Lahore\":\"Moscow\"])\n",
    "# print(temperatures_srt.loc[(\"Pakistan\",\"Lahore\"):(\"Russia\",\"Moscow\")])\n",
    "\n",
    "# Example (codes do not work), loc is very smart with dates\n",
    "# temperatures_bool = temperatures[(temperatures[\"date\"] >= \"2010-01-01\") & (temperatures[\"date\"] <= \"2011-12-31\")]\n",
    "# temperatures_ind = temperatures.set_index(\"date\").sort_index()\n",
    "# print(temperatures_ind.loc[\"2010\":\"2011\"])\n",
    "# print(temperatures_ind.loc[\"Aug 2010\":\"Feb 2011\"])\n",
    "\n"
   ]
  },
  {
   "cell_type": "code",
   "execution_count": 2,
   "id": "95a78f60",
   "metadata": {},
   "outputs": [],
   "source": [
    "# Combination of Pivot table and loc, iloc\n",
    "# desired_table = df.pivot_table(\"open\", index=\"Code\", columns=\"heven\", fill_value=0)\n",
    "# desired_table[\"IRB3DZ010431\":\"IRB3KM060441\"]\n",
    "# desired_table.mean(axis=\"index\")\n",
    "# desired_table.mean(axis=\"columns\")\n",
    "\n",
    "# Example (codes do not work), This is how mean works with conditions\n",
    "# mean_temp_by_year = temp_by_country_city_vs_year.mean()\n",
    "# print(mean_temp_by_year[mean_temp_by_year==mean_temp_by_year.max()])\n",
    "\n",
    "# mean_temp_by_city = temp_by_country_city_vs_year.mean(axis = \"columns\")\n",
    "# print(mean_temp_by_city[mean_temp_by_city==mean_temp_by_city.min()])\n",
    "\n"
   ]
  },
  {
   "cell_type": "code",
   "execution_count": 22,
   "id": "8a471cdc",
   "metadata": {},
   "outputs": [],
   "source": [
    "# visualization\n",
    "# df[\"open\"].hist()\n",
    "# df[\"open\"].hist(bins = 5)\n",
    "# plt.show()\n",
    "\n",
    "# avg_open = df.groupby(\"heven\")[\"open\"].mean()\n",
    "# avg_open.plot(kind=\"bar\", title = \"Title\")\n",
    "\n",
    "# df.plot(x = \"open\", y = \"close\", kind = \"line\")\n",
    "# df.plot(x = \"open\", y = \"close\", kind = \"scatter\")\n",
    "\n",
    "# df[df[\"Code\"] == \"IRO9AHRM6141\"][\"open\"].hist()\n",
    "# df[df[\"Code\"] == \"IRO9AHRM6181\"][\"open\"].hist(bins = 10, alpha = 0.2)\n",
    "# plt.legend([\"1\",\"2\"])\n",
    "# plt.show()\n",
    "\n",
    "# Example (codes do not work), How sum, mean, ... objects can be deal with\n",
    "# nb_sold_by_date = avocados.groupby(\"date\")[\"nb_sold\"].sum()\n",
    "# nb_sold_by_date.plot(x = \"date\", y = \"nb_sold_by_date\", kind = \"line\")\n",
    "# plt.show()\n"
   ]
  },
  {
   "cell_type": "code",
   "execution_count": 2,
   "id": "14f8295d",
   "metadata": {},
   "outputs": [],
   "source": [
    "# Missing Date, how to deal with NANs\n",
    "# df.isna()\n",
    "# df.isna().any()\n",
    "# df.isna().sum()\n",
    "# df.dropna() # removing missing rows\n",
    "# df.fillna(0) # replace missing data with 0"
   ]
  },
  {
   "cell_type": "code",
   "execution_count": 13,
   "id": "3d3cd1a9",
   "metadata": {},
   "outputs": [],
   "source": [
    "# Creating Data_Frames\n",
    "# Dictionaries\n",
    "# My_dict = {\"name\" : \"mohsen\", \"last_name\" : \"kheiroddin\", \"edu\" : \"master\", \"field\" : \"finance\"}\n",
    "# My_dict[\"name\"]\n",
    "\n",
    "# Method 1 of creating Data_Frame from Dictionaries\n",
    "# List_of_dict = [{\"name\" : \"mohsen\", \"last_name\" : \"kheiroddin\", \"edu\" : \"phd\", \"field\" : \"finance\"},\n",
    "#                 {\"name\" : \"ahmad\", \"last_name\" : \"hosseini\", \"edu\" : \"master\", \"field\" : \"industry\"}]\n",
    "# Info1 = pd.DataFrame(List_of_dict)\n",
    "\n",
    "# Method 2 of creating Data_Frame from Dictionaries\n",
    "# List_of_dict = {\"name\":[\"mohsen\", \"ahmad\"] , \"last_name\" : [\"kheiroddin\", \"hosseini\"], \"edu\" : [\"phd\", \"master\"],\n",
    "#                 \"field\" : [\"finance\",\"industry\"]}\n",
    "# Info2 = pd.DataFrame(List_of_dict)"
   ]
  },
  {
   "cell_type": "code",
   "execution_count": 16,
   "id": "33bb79e8",
   "metadata": {},
   "outputs": [],
   "source": [
    "#Read and Write CSV\n",
    "# df = pd.read_csv(\"file.csv\")\n",
    "# df = pd.read_excel(\"file.xlsx\")\n",
    "# new_df = df\n",
    "# new_df[\"change\"] = new_df[\"close\"] / new_df[\"open\"]\n",
    "# new_df.to_csv(\"new_file.csv\")\n",
    "# new_df.to_excel(\"new_file.xlsx\")\n"
   ]
  },
  {
   "cell_type": "code",
   "execution_count": null,
   "id": "6aa1cadf",
   "metadata": {},
   "outputs": [],
   "source": []
  }
 ],
 "metadata": {
  "kernelspec": {
   "display_name": "Python 3",
   "language": "python",
   "name": "python3"
  },
  "language_info": {
   "codemirror_mode": {
    "name": "ipython",
    "version": 3
   },
   "file_extension": ".py",
   "mimetype": "text/x-python",
   "name": "python",
   "nbconvert_exporter": "python",
   "pygments_lexer": "ipython3",
   "version": "3.7.13"
  }
 },
 "nbformat": 4,
 "nbformat_minor": 5
}
